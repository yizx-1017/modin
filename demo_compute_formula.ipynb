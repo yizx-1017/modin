{
 "cells": [
  {
   "cell_type": "code",
   "execution_count": 1,
   "metadata": {},
   "outputs": [
    {
     "name": "stdout",
     "output_type": "stream",
     "text": [
      "['A1', 'A1:B3', 'A2:B2']\n"
     ]
    }
   ],
   "source": [
    "import formulas\n",
    "func = formulas.Parser().ast('=SUM(A1:B3, A2:B2, A1)')[1].compile()\n",
    "print(list(func.inputs))"
   ]
  },
  {
   "cell_type": "code",
   "execution_count": 2,
   "metadata": {},
   "outputs": [
    {
     "name": "stderr",
     "output_type": "stream",
     "text": [
      "UserWarning: The pandas version installed 1.4.1 does not match the supported pandas version in Modin 1.4.2. This may cause undesired side effects!\n",
      "UserWarning: Ray execution environment not yet initialized. Initializing...\n",
      "To remove this warning, run the following python code before doing dataframe operations:\n",
      "\n",
      "    import ray\n",
      "    ray.init()\n",
      "\n",
      "\u001b[2m\u001b[33m(raylet)\u001b[0m E0505 19:25:01.174252000 4515974656 fork_posix.cc:76]                  Other threads are currently calling into gRPC, skipping fork() handlers\n",
      "UserWarning: Distributing <class 'numpy.ndarray'> object. This may take some time.\n"
     ]
    },
    {
     "data": {
      "text/plain": [
       "array([[9.0],\n",
       "       [9.0],\n",
       "       [9.0],\n",
       "       [9.0],\n",
       "       [9.0],\n",
       "       [9.0],\n",
       "       [9.0],\n",
       "       [9.0],\n",
       "       [9.0],\n",
       "       [9.0],\n",
       "       [9.0],\n",
       "       [9.0],\n",
       "       [9.0],\n",
       "       [9.0],\n",
       "       [9.0],\n",
       "       [9.0],\n",
       "       [9.0],\n",
       "       [9.0],\n",
       "       [9.0],\n",
       "       [9.0],\n",
       "       [9.0],\n",
       "       [9.0],\n",
       "       [9.0],\n",
       "       [9.0],\n",
       "       [9.0],\n",
       "       [9.0],\n",
       "       [9.0],\n",
       "       [9.0],\n",
       "       [9.0],\n",
       "       [9.0],\n",
       "       [9.0],\n",
       "       [9.0],\n",
       "       [9.0],\n",
       "       [9.0],\n",
       "       [9.0],\n",
       "       [9.0],\n",
       "       [9.0],\n",
       "       [9.0],\n",
       "       [9.0],\n",
       "       [9.0],\n",
       "       [9.0],\n",
       "       [9.0],\n",
       "       [9.0],\n",
       "       [9.0],\n",
       "       [9.0],\n",
       "       [9.0],\n",
       "       [9.0],\n",
       "       [9.0],\n",
       "       [9.0],\n",
       "       [9.0],\n",
       "       [9.0],\n",
       "       [9.0],\n",
       "       [9.0],\n",
       "       [9.0],\n",
       "       [9.0],\n",
       "       [9.0],\n",
       "       [9.0],\n",
       "       [9.0],\n",
       "       [9.0],\n",
       "       [9.0],\n",
       "       [9.0],\n",
       "       [9.0],\n",
       "       [9.0],\n",
       "       [9.0],\n",
       "       [9.0],\n",
       "       [9.0],\n",
       "       [9.0],\n",
       "       [9.0],\n",
       "       [9.0],\n",
       "       [9.0],\n",
       "       [9.0],\n",
       "       [9.0],\n",
       "       [9.0],\n",
       "       [9.0],\n",
       "       [9.0],\n",
       "       [9.0],\n",
       "       [9.0],\n",
       "       [9.0],\n",
       "       [9.0],\n",
       "       [9.0],\n",
       "       [9.0],\n",
       "       [9.0],\n",
       "       [9.0],\n",
       "       [9.0],\n",
       "       [9.0],\n",
       "       [9.0],\n",
       "       [9.0],\n",
       "       [9.0],\n",
       "       [9.0],\n",
       "       [9.0],\n",
       "       [9.0],\n",
       "       [9.0],\n",
       "       [9.0],\n",
       "       [9.0],\n",
       "       [9.0],\n",
       "       [9.0],\n",
       "       [9.0],\n",
       "       [9.0],\n",
       "       [7.0],\n",
       "       [3.0]], dtype=object)"
      ]
     },
     "execution_count": 2,
     "metadata": {},
     "output_type": "execute_result"
    }
   ],
   "source": [
    "import numpy as np\n",
    "import modin.pandas as pd\n",
    "from modin.core.dataframe.base.dataframe.utils import Axis\n",
    "\n",
    "frame_data = np.ones((100,100))\n",
    "\n",
    "modin_frame = pd.DataFrame(frame_data, columns=[f'col {i}' for i in range(1, 101)])._query_compiler._modin_frame\n",
    "\n",
    "reference = (1,1) # A1\n",
    "reference1 = ((1,1),(2,3)) # (A1:B3)\n",
    "reference2 = ((1,2),(2,2)) # (A2:B2)\n",
    "\n",
    "references = [reference, reference1, reference2]\n",
    "reference_types = ['RR', 'RR', 'RR']\n",
    "res = modin_frame.compute_formula(formula_fn = func, references = references, reference_types = reference_types)\n",
    "res.to_numpy()"
   ]
  },
  {
   "cell_type": "code",
   "execution_count": null,
   "metadata": {},
   "outputs": [],
   "source": []
  }
 ],
 "metadata": {
  "kernelspec": {
   "display_name": "Python 3",
   "language": "python",
   "name": "python3"
  },
  "language_info": {
   "codemirror_mode": {
    "name": "ipython",
    "version": 3
   },
   "file_extension": ".py",
   "mimetype": "text/x-python",
   "name": "python",
   "nbconvert_exporter": "python",
   "pygments_lexer": "ipython3",
   "version": "3.8.3"
  }
 },
 "nbformat": 4,
 "nbformat_minor": 4
}
